{
 "cells": [
  {
   "cell_type": "markdown",
   "metadata": {},
   "source": [
    "# Project 1"
   ]
  },
  {
   "cell_type": "markdown",
   "metadata": {},
   "source": [
    "## Read and evaluate the following problem statement\n",
    "Using [Admission data](http://www.ats.ucla.edu/stat/data/binary.csv) from (https://idre.ucla.edu/) , deterimne about getting into graduate school by analyzing variables such as GRE(graduate Record Exam scores), GPA(grade point average) and prestige of undergaduate institution, effect admission into graduate school. \n",
    "\n",
    "#### 1. What is the outcome?\n",
    "Answer: Admission to grad school(Yes/No)\n",
    "\n",
    "#### 2. What are the covariates/predictors?\n",
    "Answer: GRE score(GRE), Grade Point Average(GPA), the rank of an applicant's undergraduate institution\n",
    "\n",
    "#### 3. What timeframe is this data relevent for?\n",
    "Answer: The data sets collected within two addmission cycle in 20xx.\n",
    "\n",
    "#### 4. What is the hypothesis?\n",
    "Answer: 1) Data sets are completed and validate.\n",
    "        2) Logistic regression does not assume a linear relaionship between dependent and independent variables.\n",
    "        3) The independent variables need not be interval, nor normally distributed, nor linearly related nor of equal variance within each group.\n",
    "        \n",
    "\n",
    "\n",
    "\n",
    "#### 5. Create a data dictionary\n",
    "Answer:\n",
    "\n",
    "|Variale  | Description                  | Type of Variable|\n",
    "|---------|:----------------------------:|----------------:|\n",
    "|gre      | GRE(Integer)                    |Continuous     |\n",
    "|gpa      | GPA(Integer)                     |Continuous     |\n",
    "|rank     | Prestige of undergaduate institution(1,2,3,4(1-Highest,4-lowest))|Categoriacal   |\n",
    "\n",
    "\n",
    "\n",
    "\n",
    "\n",
    "## Exploratory Analysis Plan\n",
    "\n",
    "#### 1. What are the goals of the exploratory analysis? \n",
    "Answer: Relationship between mean response and covariates\n",
    "        Variance, correlation structure, individual-level heterogeneity\n",
    "\n",
    "#### 2a. What are the assumptions of the distribution of data?\n",
    "Answer: A standard logistic distribution of errors;\n",
    "        a standard normal distribution of errors;\n",
    "        the independent variables need not be interval, nor normally distributed, nor linearly related nor of equal variance within each group.\n",
    "        \n",
    "        \n",
    "#### 2b. How will determine the distribution of your data?\n",
    "Answer: \n",
    "- Graphing\n",
    "Plotting histograms\n",
    "Side-by-side boxplotting;\n",
    "- Non-graphing\n",
    "Calculating sample statistics\n",
    "\n",
    "#### 3b: How might outliers impact your analysis?\n",
    "Answer:  \n",
    "1. If it is obvious that the outlier is due to incorrelty entered or measured data, you should drop the outlier\n",
    "2. If the outlier does not change the results but does affect assumptions, you may drop the outlier.But note that in a footnote of your paper.\n",
    "3. If the outlier affects both results and assumptions, you may run analysis both with and without it. But you should state in at least a footbote the dropping of any such data points and how results changed.\n",
    "4. If the outlier creates a significant association, you should drop the outlier and should not report any significance from your analysis.\n",
    "\n",
    "#### 4a. What is colinearity?\n",
    "Answer:\n",
    "In statistics, colinearity is a phenomenon in which two or more predictor variables in a multiple regression model are highly correlated, meaning that one can be linearly predicted from the others with a substantial degree of accuracy.\n",
    "\n",
    "#### 5. What is your exploratory analysis plan?\n",
    "Using the above information, write an exploratory analysis plan that would allow you or a colleague to repoduce your analysis 1 year from now\n",
    "Answer:\n",
    "Categorical Response Variable vs. Categorical Independent Variable\n",
    "This is essentially a frequency table, which can be depicted graphically (e.g., barplot)\n",
    "\n",
    "Continuous Response Variable vs. Categorical Independent Variable\n",
    "If there are only two or three categories, consider box plots. Occasionally, a back-to-back histogram can be effective for two groups.\n",
    "\n",
    "### Bonus Questions:\n",
    "#### 1. Outline your analysis method for prediction your outcome\n",
    "Answer:Logistical regression with multiple predictors;\n",
    "       Testing regression coefficient with maximized likelihood function\n",
    "       \n",
    "#### 2. Write an alternative problem statement for your dataset\n",
    "Answer: explore if there is a relationship between admission and prestige of undergaduate institution\n",
    "#### 3. Articulate the assumptions and risks of the alternative mode\n",
    "Answer: model: logistic regression with one predictior(prestige of undergraduate institution)\n",
    "assumptions: cases are independent; errors need to be independent but not normally distributed\n",
    "        risks: data sets of two admission cycles of one year are not enough. Also other elements affect these data sets significantly, such as admission policy and scholarship rules change\n",
    "\n",
    "\n",
    "\n",
    "\n",
    "\n",
    "\n",
    "            \n",
    "\n",
    "\n",
    "\n",
    "\n",
    "\n"
   ]
  },
  {
   "cell_type": "markdown",
   "metadata": {},
   "source": [
    "                                                © Lyla Yang 2016 All Rights reserved."
   ]
  },
  {
   "cell_type": "markdown",
   "metadata": {},
   "source": [
    "\n"
   ]
  },
  {
   "cell_type": "markdown",
   "metadata": {},
   "source": [
    "\n"
   ]
  }
 ],
 "metadata": {
  "kernelspec": {
   "display_name": "Python 2",
   "language": "python",
   "name": "python2"
  },
  "language_info": {
   "codemirror_mode": {
    "name": "ipython",
    "version": 2
   },
   "file_extension": ".py",
   "mimetype": "text/x-python",
   "name": "python",
   "nbconvert_exporter": "python",
   "pygments_lexer": "ipython2",
   "version": "2.7.11"
  }
 },
 "nbformat": 4,
 "nbformat_minor": 0
}
